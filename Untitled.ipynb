{
 "cells": [
  {
   "cell_type": "code",
   "execution_count": 1,
   "id": "0cb0acfd-e6eb-4592-82a1-4c474732c3b4",
   "metadata": {},
   "outputs": [
    {
     "name": "stdout",
     "output_type": "stream",
     "text": [
      "gto76-python-cheatsheet  Miniforge3-Linux-x86_64.sh  test  Untitled.ipynb\n"
     ]
    }
   ],
   "source": [
    "!ls"
   ]
  },
  {
   "cell_type": "code",
   "execution_count": null,
   "id": "074822d2-8c0b-4e52-b61c-a02fba43dab6",
   "metadata": {},
   "outputs": [],
   "source": []
  },
  {
   "cell_type": "code",
   "execution_count": 2,
   "id": "18cf71af-ea8e-4224-bbaf-ccd9fbf0c5aa",
   "metadata": {},
   "outputs": [
    {
     "name": "stdout",
     "output_type": "stream",
     "text": [
      "/bin/bash: строка 1: зцв: команда не найдена\n"
     ]
    }
   ],
   "source": []
  },
  {
   "cell_type": "code",
   "execution_count": 3,
   "id": "4cf885f1-b2a8-4d49-aa6b-b47760a416ff",
   "metadata": {},
   "outputs": [
    {
     "name": "stdout",
     "output_type": "stream",
     "text": [
      "/home/konstantin/ds.bootcamp\n"
     ]
    }
   ],
   "source": [
    "!pwd"
   ]
  },
  {
   "cell_type": "code",
   "execution_count": 7,
   "id": "49b7ed40-a5a4-4df1-9704-80631960284a",
   "metadata": {},
   "outputs": [],
   "source": [
    "!mkdir texts"
   ]
  },
  {
   "cell_type": "code",
   "execution_count": 12,
   "id": "5ee7bc02-b5bf-4fc4-b5bc-7c1becf9bf82",
   "metadata": {},
   "outputs": [
    {
     "name": "stdout",
     "output_type": "stream",
     "text": [
      "/home/konstantin/ds.bootcamp/Phase_0/Rent-data-project/release/Release 2\n"
     ]
    }
   ],
   "source": [
    "cd Release\\ 2"
   ]
  },
  {
   "cell_type": "code",
   "execution_count": 4,
   "id": "efaa5df6-8969-4717-b6ee-8900e8f65b35",
   "metadata": {},
   "outputs": [],
   "source": [
    "! touch texts/'example file.txt'"
   ]
  },
  {
   "cell_type": "code",
   "execution_count": 6,
   "id": "91a0b566-897c-4029-aca1-ed7038d72cfb",
   "metadata": {},
   "outputs": [],
   "source": [
    "!echo python_bash.py > texts/example\\ file.txt"
   ]
  },
  {
   "cell_type": "code",
   "execution_count": 7,
   "id": "b23511a9-020e-4193-9f66-6a9a03cfcfe1",
   "metadata": {},
   "outputs": [],
   "source": [
    "!echo README.md >> texts/example\\ file.txt"
   ]
  },
  {
   "cell_type": "code",
   "execution_count": 8,
   "id": "6952d0b8-c93b-402a-9167-98d68c80a48b",
   "metadata": {},
   "outputs": [],
   "source": [
    "!echo requirements.txt >> texts/example\\ file.txt"
   ]
  },
  {
   "cell_type": "code",
   "execution_count": 9,
   "id": "464027a0-f579-45a6-9980-7b236656d078",
   "metadata": {},
   "outputs": [],
   "source": [
    "!echo test_python_bash.py >> texts/example\\ file.txt"
   ]
  },
  {
   "cell_type": "code",
   "execution_count": 13,
   "id": "b06c9a27-5f97-4c64-a331-4ce5384dcb91",
   "metadata": {},
   "outputs": [
    {
     "name": "stdout",
     "output_type": "stream",
     "text": [
      "/bin/bash: строка 1: bash/zsh: Нет такого файла или каталога\n"
     ]
    }
   ],
   "source": [
    "!bash/zsh"
   ]
  },
  {
   "cell_type": "code",
   "execution_count": 10,
   "id": "24554ee9-0f0a-4a4f-87e7-8085d82ff621",
   "metadata": {},
   "outputs": [
    {
     "name": "stdout",
     "output_type": "stream",
     "text": [
      "/home/konstantin/ds.bootcamp/Phase_0/Rent-data-project/release/Release 1\n"
     ]
    }
   ],
   "source": [
    "!pwd"
   ]
  },
  {
   "cell_type": "code",
   "execution_count": 2,
   "id": "187d64ec-d370-4b3f-908f-0b3ca7b62aa1",
   "metadata": {},
   "outputs": [],
   "source": [
    "!echo /home/konstantin/ds.bootcamp >> head -1 texts/example\\ file.txt"
   ]
  },
  {
   "cell_type": "code",
   "execution_count": 11,
   "id": "861d9e71-c9c5-46dc-8bac-b2eed8626cf9",
   "metadata": {},
   "outputs": [],
   "source": [
    "!echo /home/konstantin/ds.bootcam/python-bash |cat - texts/example\\ file.txt > texts/temp.txt && mv texts/temp.txt texts/example\\ file.txt"
   ]
  },
  {
   "cell_type": "code",
   "execution_count": 31,
   "id": "e7c6f9f5-257f-4601-9875-c63f81d875ba",
   "metadata": {},
   "outputs": [],
   "source": [
    "!git config pull.rebase true"
   ]
  },
  {
   "cell_type": "code",
   "execution_count": 35,
   "id": "22246677-cd20-4af0-ac89-b34a2cba2d3e",
   "metadata": {},
   "outputs": [
    {
     "name": "stdout",
     "output_type": "stream",
     "text": [
      "error: не удалось выполнить получение с перемещением: У вас есть непроиндексированные изменения.\n",
      "error: Сделайте коммит или спрячьте их.\n"
     ]
    }
   ],
   "source": [
    "!git pull"
   ]
  },
  {
   "cell_type": "code",
   "execution_count": 50,
   "id": "41cb653e-3808-4792-b9c7-15b1a81a1183",
   "metadata": {},
   "outputs": [],
   "source": [
    "!mv preprocessing.ipynb _data.csv"
   ]
  },
  {
   "cell_type": "code",
   "execution_count": 4,
   "id": "e5b29e36-b711-48ce-b3e8-46e3406d3f0f",
   "metadata": {},
   "outputs": [
    {
     "name": "stdout",
     "output_type": "stream",
     "text": [
      "Клонирование в «Rent-data-project»...\n",
      "remote: Enumerating objects: 3, done.\u001b[K\n",
      "remote: Counting objects: 100% (3/3), done.\u001b[K\n",
      "remote: Compressing objects: 100% (2/2), done.\u001b[K\n",
      "remote: Total 3 (delta 0), reused 0 (delta 0), pack-reused 0 (from 0)\u001b[K\n",
      "Получение объектов: 100% (3/3), готово.\n"
     ]
    }
   ],
   "source": [
    "!git clone git@github.com:Frorxlam/Rent-data-project.git"
   ]
  },
  {
   "cell_type": "code",
   "execution_count": 3,
   "id": "f46410dd-6c87-4787-b179-7493040b9121",
   "metadata": {},
   "outputs": [
    {
     "name": "stdout",
     "output_type": "stream",
     "text": [
      "/home/konstantin/ds.bootcamp/Phase_0/Rent-data-project/release/Release 1\n"
     ]
    }
   ],
   "source": [
    "cd Release\\ 1"
   ]
  },
  {
   "cell_type": "code",
   "execution_count": 23,
   "id": "650ba565-de3d-40d8-8589-88605e136ed5",
   "metadata": {},
   "outputs": [
    {
     "name": "stdout",
     "output_type": "stream",
     "text": [
      "/home/konstantin/ds.bootcamp/Phase_0/Rent-data-project/release/Release 2\n"
     ]
    }
   ],
   "source": [
    "!pwd"
   ]
  },
  {
   "cell_type": "code",
   "execution_count": 12,
   "id": "aa561d9c-7b85-4ad6-8b75-5537debaeb3a",
   "metadata": {},
   "outputs": [],
   "source": [
    "!mkdir data notebooks tmp_data src realises"
   ]
  },
  {
   "cell_type": "code",
   "execution_count": 3,
   "id": "efb71d37-d90a-4454-8697-b6be1807d124",
   "metadata": {},
   "outputs": [
    {
     "name": "stdout",
     "output_type": "stream",
     "text": [
      "/home/konstantin/ds.bootcamp/1_Week/W1D5/python-classes\n"
     ]
    }
   ],
   "source": [
    "cd python-classes/"
   ]
  },
  {
   "cell_type": "code",
   "execution_count": 10,
   "id": "074a8030-8b7b-4f52-aefc-6d47da876fbf",
   "metadata": {},
   "outputs": [],
   "source": [
    "!mkdir 2_Week"
   ]
  },
  {
   "cell_type": "code",
   "execution_count": 33,
   "id": "be716d6b-ad31-4f4b-aee2-c85d9e38a357",
   "metadata": {},
   "outputs": [],
   "source": [
    "! git add _data.csv"
   ]
  },
  {
   "cell_type": "code",
   "execution_count": 36,
   "id": "600ea39c-80d0-412d-a1ea-0ce406ef11fd",
   "metadata": {},
   "outputs": [
    {
     "name": "stdout",
     "output_type": "stream",
     "text": [
      "Текущая ветка: main\n",
      "Ваша ветка опережает «origin/main» на 2 коммита.\n",
      "  (используйте «git push», чтобы опубликовать ваши локальные коммиты)\n",
      "\n",
      "Изменения, которые не в индексе для коммита:\n",
      "  (используйте «git add/rm <файл>...», чтобы добавить или удалить файл из индекса)\n",
      "  (используйте «git restore <файл>...», чтобы отменить изменения в рабочем каталоге)\n",
      "\t\u001b[31mудалено:       ../../EDA.ipynb\u001b[m\n",
      "\t\u001b[31mудалено:       ../../_data.csv\u001b[m\n",
      "\t\u001b[31mизменено:      ../../notebooks/chernovik.ipynb\u001b[m\n",
      "\n",
      "Неотслеживаемые файлы:\n",
      "  (используйте «git add <файл>...», чтобы добавить в то, что будет включено в коммит)\n",
      "\t\u001b[31m../../.ipynb_checkpoints/\u001b[m\n",
      "\t\u001b[31m../../Untitled.ipynb\u001b[m\n",
      "\t\u001b[31m../../chernovik.ipynb\u001b[m\n",
      "\t\u001b[31m../../notebooks/.ipynb_checkpoints/\u001b[m\n",
      "\t\u001b[31m../../notebooks/EDA_temp.ipynb\u001b[m\n",
      "\t\u001b[31m../../notebooks/preprocessing.ipynb\u001b[m\n",
      "\t\u001b[31m../Release 1/.ipynb_checkpoints/\u001b[m\n",
      "\n",
      "индекс пуст (используйте «git add» и/или «git commit -a»)\n"
     ]
    }
   ],
   "source": [
    "! git commit -m'Added preprocessing.ipynb file - notebook with work performed, updated _data.csv with no blank cells and eng column names'"
   ]
  },
  {
   "cell_type": "code",
   "execution_count": 22,
   "id": "8d655065-c5f0-4af3-9f0e-a9cf51b3529e",
   "metadata": {},
   "outputs": [
    {
     "name": "stdout",
     "output_type": "stream",
     "text": [
      "To github.com:Frorxlam/Rent-data-project.git\n",
      " \u001b[31m! [rejected]       \u001b[m main -> main (non-fast-forward)\n",
      "\u001b[31merror: не удалось отправить некоторые ссылки в «github.com:Frorxlam/Rent-data-project.git»\n",
      "\u001b[m\u001b[33mподсказка: Updates were rejected because the tip of your current branch is behind\u001b[m\n",
      "\u001b[33mподсказка: its remote counterpart. If you want to integrate the remote changes,\u001b[m\n",
      "\u001b[33mподсказка: use 'git pull' before pushing again.\u001b[m\n",
      "\u001b[33mподсказка: See the 'Note about fast-forwards' in 'git push --help' for details.\u001b[m\n"
     ]
    }
   ],
   "source": [
    "! git push"
   ]
  },
  {
   "cell_type": "code",
   "execution_count": 3,
   "id": "1845095d-a13c-4711-9d09-fd8beeb83405",
   "metadata": {},
   "outputs": [
    {
     "name": "stdout",
     "output_type": "stream",
     "text": [
      "Collecting seaborn\n",
      "  Downloading seaborn-0.13.2-py3-none-any.whl.metadata (5.4 kB)\n",
      "Requirement already satisfied: numpy!=1.24.0,>=1.20 in /home/konstantin/miniforge3/lib/python3.12/site-packages (from seaborn) (2.1.1)\n",
      "Requirement already satisfied: pandas>=1.2 in /home/konstantin/miniforge3/lib/python3.12/site-packages (from seaborn) (2.2.3)\n",
      "Requirement already satisfied: matplotlib!=3.6.1,>=3.4 in /home/konstantin/miniforge3/lib/python3.12/site-packages (from seaborn) (3.9.2)\n",
      "Requirement already satisfied: contourpy>=1.0.1 in /home/konstantin/miniforge3/lib/python3.12/site-packages (from matplotlib!=3.6.1,>=3.4->seaborn) (1.3.0)\n",
      "Requirement already satisfied: cycler>=0.10 in /home/konstantin/miniforge3/lib/python3.12/site-packages (from matplotlib!=3.6.1,>=3.4->seaborn) (0.12.1)\n",
      "Requirement already satisfied: fonttools>=4.22.0 in /home/konstantin/miniforge3/lib/python3.12/site-packages (from matplotlib!=3.6.1,>=3.4->seaborn) (4.54.1)\n",
      "Requirement already satisfied: kiwisolver>=1.3.1 in /home/konstantin/miniforge3/lib/python3.12/site-packages (from matplotlib!=3.6.1,>=3.4->seaborn) (1.4.7)\n",
      "Requirement already satisfied: packaging>=20.0 in /home/konstantin/miniforge3/lib/python3.12/site-packages (from matplotlib!=3.6.1,>=3.4->seaborn) (24.1)\n",
      "Requirement already satisfied: pillow>=8 in /home/konstantin/miniforge3/lib/python3.12/site-packages (from matplotlib!=3.6.1,>=3.4->seaborn) (10.4.0)\n",
      "Requirement already satisfied: pyparsing>=2.3.1 in /home/konstantin/miniforge3/lib/python3.12/site-packages (from matplotlib!=3.6.1,>=3.4->seaborn) (3.1.4)\n",
      "Requirement already satisfied: python-dateutil>=2.7 in /home/konstantin/miniforge3/lib/python3.12/site-packages (from matplotlib!=3.6.1,>=3.4->seaborn) (2.9.0)\n",
      "Requirement already satisfied: pytz>=2020.1 in /home/konstantin/miniforge3/lib/python3.12/site-packages (from pandas>=1.2->seaborn) (2024.2)\n",
      "Requirement already satisfied: tzdata>=2022.7 in /home/konstantin/miniforge3/lib/python3.12/site-packages (from pandas>=1.2->seaborn) (2024.2)\n",
      "Requirement already satisfied: six>=1.5 in /home/konstantin/miniforge3/lib/python3.12/site-packages (from python-dateutil>=2.7->matplotlib!=3.6.1,>=3.4->seaborn) (1.16.0)\n",
      "Downloading seaborn-0.13.2-py3-none-any.whl (294 kB)\n",
      "Installing collected packages: seaborn\n",
      "Successfully installed seaborn-0.13.2\n",
      "Note: you may need to restart the kernel to use updated packages.\n"
     ]
    }
   ],
   "source": [
    "pip install seaborn"
   ]
  },
  {
   "cell_type": "code",
   "execution_count": null,
   "id": "43cfaf4d-5d3c-48fb-84ca-5799dd7b4d93",
   "metadata": {},
   "outputs": [],
   "source": [
    "sudo systemctl start docker"
   ]
  }
 ],
 "metadata": {
  "kernelspec": {
   "display_name": "Python 3 (ipykernel)",
   "language": "python",
   "name": "python3"
  },
  "language_info": {
   "codemirror_mode": {
    "name": "ipython",
    "version": 3
   },
   "file_extension": ".py",
   "mimetype": "text/x-python",
   "name": "python",
   "nbconvert_exporter": "python",
   "pygments_lexer": "ipython3",
   "version": "3.12.5"
  }
 },
 "nbformat": 4,
 "nbformat_minor": 5
}
